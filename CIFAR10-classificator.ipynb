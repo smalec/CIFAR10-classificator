{
 "cells": [
  {
   "cell_type": "code",
   "execution_count": 1,
   "metadata": {
    "collapsed": false
   },
   "outputs": [
    {
     "name": "stdout",
     "output_type": "stream",
     "text": [
      "Populating the interactive namespace from numpy and matplotlib\n"
     ]
    }
   ],
   "source": [
    "%pylab inline"
   ]
  },
  {
   "cell_type": "code",
   "execution_count": 2,
   "metadata": {
    "collapsed": true
   },
   "outputs": [],
   "source": [
    "import numpy as np"
   ]
  },
  {
   "cell_type": "code",
   "execution_count": 11,
   "metadata": {
    "collapsed": false
   },
   "outputs": [],
   "source": [
    "from fuel.datasets.cifar10 import CIFAR10\n",
    "\n",
    "cifar_train = CIFAR10((\"train\",))\n",
    "cifar_test  = CIFAR10((\"test\",))"
   ]
  },
  {
   "cell_type": "code",
   "execution_count": 3,
   "metadata": {
    "collapsed": false
   },
   "outputs": [],
   "source": [
    "from fuel.datasets.mnist import MNIST\n",
    "from fuel.transformers import ScaleAndShift, Cast, Flatten\n",
    "from fuel.streams import DataStream\n",
    "from fuel.schemes import SequentialScheme, ShuffledScheme\n",
    "\n",
    "MNIST.default_transformers = (\n",
    "    (ScaleAndShift, [2.0 / 255.0, -1], {'which_sources': 'features'}),\n",
    "    (Cast, [np.float32], {'which_sources': 'features'}), \n",
    "    (Flatten, [], {'which_sources': 'features'}) )\n",
    "\n",
    "mnist_train = MNIST((\"train\",), subset=slice(None,50000))\n",
    "#this stream will shuffle the MNIST set and return us batches of 100 examples\n",
    "mnist_train_stream = DataStream.default_stream(\n",
    "    mnist_train,\n",
    "    iteration_scheme=ShuffledScheme(mnist_train.num_examples, 100))\n",
    "                                               \n",
    "mnist_validation = MNIST((\"train\",), subset=slice(50000, None))\n",
    "\n",
    "# We will use larger portions for testing and validation\n",
    "# as these dont do a backward pass and reauire less RAM.\n",
    "mnist_validation_stream = DataStream.default_stream(\n",
    "    mnist_validation, iteration_scheme=SequentialScheme(mnist_validation.num_examples, 250))\n",
    "mnist_test = MNIST((\"test\",))\n",
    "mnist_test_stream = DataStream.default_stream(\n",
    "    mnist_test, iteration_scheme=SequentialScheme(mnist_test.num_examples, 250))"
   ]
  },
  {
   "cell_type": "code",
   "execution_count": 4,
   "metadata": {
    "collapsed": true
   },
   "outputs": [],
   "source": [
    "from modules.Network import Network\n",
    "from modules.layers.SoftMaxLayer import SoftMaxLayer"
   ]
  },
  {
   "cell_type": "code",
   "execution_count": 5,
   "metadata": {
    "collapsed": false
   },
   "outputs": [
    {
     "name": "stdout",
     "output_type": "stream",
     "text": [
      "At batch #100, batch cost: 0.889680\n",
      "At batch #200, batch cost: 0.643908\n",
      "At batch #300, batch cost: 0.697066\n",
      "At batch #400, batch cost: 0.493531\n",
      "At batch #500, batch cost: 0.486165\n",
      "After epoch 0: validation error: 11.000000%\n",
      "At batch #100, batch cost: 0.485613\n",
      "At batch #200, batch cost: 0.496772\n",
      "At batch #300, batch cost: 0.398573\n",
      "At batch #400, batch cost: 0.448305\n",
      "At batch #500, batch cost: 0.368536\n",
      "After epoch 1: validation error: 9.970000%\n",
      "At batch #100, batch cost: 0.385483\n",
      "At batch #200, batch cost: 0.212670\n",
      "At batch #300, batch cost: 0.478623\n",
      "At batch #400, batch cost: 0.393425\n",
      "At batch #500, batch cost: 0.410299\n",
      "After epoch 2: validation error: 9.370000%\n",
      "At batch #100, batch cost: 0.522089\n",
      "At batch #200, batch cost: 0.349896\n",
      "At batch #300, batch cost: 0.366624\n",
      "At batch #400, batch cost: 0.458458\n",
      "At batch #500, batch cost: 0.340334\n",
      "After epoch 3: validation error: 8.980000%\n",
      "At batch #100, batch cost: 0.369078\n",
      "At batch #200, batch cost: 0.316869\n",
      "At batch #300, batch cost: 0.386168\n",
      "At batch #400, batch cost: 0.357161\n",
      "At batch #500, batch cost: 0.407009\n",
      "After epoch 4: validation error: 8.820000%\n",
      "At batch #100, batch cost: 0.363482\n",
      "At batch #200, batch cost: 0.330535\n",
      "At batch #300, batch cost: 0.264019\n",
      "At batch #400, batch cost: 0.344308\n",
      "At batch #500, batch cost: 0.468462\n",
      "After epoch 5: validation error: 8.700000%\n",
      "At batch #100, batch cost: 0.270618\n",
      "At batch #200, batch cost: 0.396708\n",
      "At batch #300, batch cost: 0.298348\n",
      "At batch #400, batch cost: 0.394949\n",
      "At batch #500, batch cost: 0.258865\n",
      "After epoch 6: validation error: 8.710000%\n",
      "At batch #100, batch cost: 0.281569\n",
      "At batch #200, batch cost: 0.303002\n",
      "At batch #300, batch cost: 0.274765\n",
      "At batch #400, batch cost: 0.338549\n",
      "At batch #500, batch cost: 0.352192\n",
      "After epoch 7: validation error: 8.410000%\n",
      "At batch #100, batch cost: 0.285567\n",
      "At batch #200, batch cost: 0.325554\n",
      "At batch #300, batch cost: 0.354033\n",
      "At batch #400, batch cost: 0.363700\n",
      "At batch #500, batch cost: 0.391692\n",
      "After epoch 8: validation error: 8.490000%\n",
      "At batch #100, batch cost: 0.291334\n",
      "At batch #200, batch cost: 0.416601\n",
      "At batch #300, batch cost: 0.300399\n",
      "At batch #400, batch cost: 0.238646\n",
      "At batch #500, batch cost: 0.348425\n",
      "After epoch 9: validation error: 8.380000%\n"
     ]
    }
   ],
   "source": [
    "net = Network([SoftMaxLayer(784, 10)])\n",
    "net.train(mnist_train_stream, mnist_validation_stream, 10, 1e-2)"
   ]
  }
 ],
 "metadata": {
  "kernelspec": {
   "display_name": "Python 2",
   "language": "python",
   "name": "python2"
  },
  "language_info": {
   "codemirror_mode": {
    "name": "ipython",
    "version": 2
   },
   "file_extension": ".py",
   "mimetype": "text/x-python",
   "name": "python",
   "nbconvert_exporter": "python",
   "pygments_lexer": "ipython2",
   "version": "2.7.11"
  }
 },
 "nbformat": 4,
 "nbformat_minor": 0
}
