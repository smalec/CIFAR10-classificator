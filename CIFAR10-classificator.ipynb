{
 "cells": [
  {
   "cell_type": "code",
   "execution_count": 1,
   "metadata": {
    "collapsed": false
   },
   "outputs": [
    {
     "name": "stdout",
     "output_type": "stream",
     "text": [
      "Populating the interactive namespace from numpy and matplotlib\n"
     ]
    },
    {
     "name": "stderr",
     "output_type": "stream",
     "text": [
      "Vendor:  Continuum Analytics, Inc.\n",
      "Package: mkl\n",
      "Message: trial mode expires in 30 days\n",
      "Vendor:  Continuum Analytics, Inc.\n",
      "Package: mkl\n",
      "Message: trial mode expires in 30 days\n"
     ]
    }
   ],
   "source": [
    "%pylab inline"
   ]
  },
  {
   "cell_type": "code",
   "execution_count": 2,
   "metadata": {
    "collapsed": false
   },
   "outputs": [
    {
     "name": "stderr",
     "output_type": "stream",
     "text": [
      "Using gpu device 0: GeForce GTX 780 (CNMeM is disabled)\n"
     ]
    }
   ],
   "source": [
    "import theano.tensor as T"
   ]
  },
  {
   "cell_type": "code",
   "execution_count": 3,
   "metadata": {
    "collapsed": true
   },
   "outputs": [],
   "source": [
    "from fuel.datasets.cifar10 import CIFAR10\n",
    "from fuel.transformers import ScaleAndShift, Cast, Flatten\n",
    "from fuel.streams import DataStream\n",
    "from fuel.schemes import SequentialScheme, ShuffledScheme\n",
    "\n",
    "CIFAR10.default_transformers = (\n",
    "    (ScaleAndShift, [2.0 / 255.0, -1], {'which_sources': 'features'}),\n",
    "    (Cast, [np.float32], {'which_sources': 'features'}) ,\n",
    "    (Flatten, [], {'which_sources': 'features'}) )\n",
    "\n",
    "cifar_train = CIFAR10((\"train\",), subset=slice(None,40000))\n",
    "cifar_train_stream = DataStream.default_stream(\n",
    "    cifar_train, iteration_scheme=ShuffledScheme(cifar_train.num_examples, 100))\n",
    "                                               \n",
    "cifar_validation = CIFAR10((\"train\",), subset=slice(40000, None))\n",
    "cifar_validation_stream = DataStream.default_stream(\n",
    "    cifar_validation, iteration_scheme=SequentialScheme(cifar_validation.num_examples, 250))\n",
    "\n",
    "cifar_test = CIFAR10((\"test\",))\n",
    "cifar_test_stream = DataStream.default_stream(\n",
    "    cifar_test, iteration_scheme=SequentialScheme(cifar_test.num_examples, 250))"
   ]
  },
  {
   "cell_type": "code",
   "execution_count": 4,
   "metadata": {
    "collapsed": false
   },
   "outputs": [
    {
     "name": "stderr",
     "output_type": "stream",
     "text": [
      "/home/i258361/Dokumenty/nn_project/CIFAR10-classificator/libs/Theano/theano/tensor/signal/downsample.py:5: UserWarning: downsample module has been moved to the pool module.\n",
      "  warnings.warn(\"downsample module has been moved to the pool module.\")\n"
     ]
    }
   ],
   "source": [
    "from modules.Network import Network\n",
    "from modules.layers.SoftMaxLayer import SoftMaxLayer\n",
    "from modules.layers.AffineLayer import AffineLayer\n",
    "from modules.layers.ConvolutionalPoolLayer import ConvolutionalPoolLayer\n",
    "from modules.initializers.Normal import Normal"
   ]
  },
  {
   "cell_type": "code",
   "execution_count": 5,
   "metadata": {
    "collapsed": false
   },
   "outputs": [
    {
     "name": "stdout",
     "output_type": "stream",
     "text": [
      "At batch #100, batch cost: 3.776503\n",
      "At batch #200, batch cost: 3.658404\n",
      "At batch #300, batch cost: 3.241800\n",
      "At batch #400, batch cost: 2.866297\n",
      "After epoch 1: validation error: 43.980000%\n",
      "Currently going to do 3 epochs\n",
      "At batch #500, batch cost: 2.679255\n",
      "At batch #600, batch cost: 2.719731\n",
      "At batch #700, batch cost: 2.423378\n",
      "At batch #800, batch cost: 2.301649\n",
      "After epoch 2: validation error: 35.580000%\n",
      "Currently going to do 4 epochs\n",
      "At batch #900, batch cost: 2.330848\n",
      "At batch #1000, batch cost: 2.097350\n",
      "At batch #1100, batch cost: 2.120095\n",
      "At batch #1200, batch cost: 1.839159\n",
      "After epoch 3: validation error: 30.840000%\n",
      "Currently going to do 5 epochs\n",
      "At batch #1300, batch cost: 1.775902\n",
      "At batch #1400, batch cost: 1.520970\n",
      "At batch #1500, batch cost: 1.688003\n",
      "At batch #1600, batch cost: 1.677832\n",
      "After epoch 4: validation error: 29.120000%\n",
      "Currently going to do 7 epochs\n",
      "At batch #1700, batch cost: 1.592917\n",
      "At batch #1800, batch cost: 1.493343\n",
      "At batch #1900, batch cost: 1.460852\n",
      "At batch #2000, batch cost: 1.735946\n",
      "After epoch 5: validation error: 27.370000%\n",
      "Currently going to do 8 epochs\n",
      "At batch #2100, batch cost: 1.299902\n",
      "At batch #2200, batch cost: 1.339854\n",
      "At batch #2300, batch cost: 1.311355\n",
      "At batch #2400, batch cost: 1.357594\n",
      "After epoch 6: validation error: 25.170000%\n",
      "Currently going to do 10 epochs\n",
      "At batch #2500, batch cost: 1.207682\n",
      "At batch #2600, batch cost: 1.096012\n",
      "At batch #2700, batch cost: 0.989406\n",
      "At batch #2800, batch cost: 1.153629\n",
      "After epoch 7: validation error: 26.870000%\n",
      "Currently going to do 10 epochs\n",
      "At batch #2900, batch cost: 0.955587\n",
      "At batch #3000, batch cost: 0.963335\n",
      "At batch #3100, batch cost: 0.841040\n",
      "At batch #3200, batch cost: 0.977324\n",
      "After epoch 8: validation error: 24.400000%\n",
      "Currently going to do 13 epochs\n",
      "At batch #3300, batch cost: 0.805978\n",
      "At batch #3400, batch cost: 0.849265\n",
      "At batch #3500, batch cost: 0.859784\n",
      "At batch #3600, batch cost: 0.772322\n",
      "After epoch 9: validation error: 24.430000%\n",
      "Currently going to do 13 epochs\n",
      "At batch #3700, batch cost: 0.743076\n",
      "At batch #3800, batch cost: 0.763105\n",
      "At batch #3900, batch cost: 0.838368\n",
      "At batch #4000, batch cost: 0.884859\n",
      "After epoch 10: validation error: 23.850000%\n",
      "Currently going to do 16 epochs\n",
      "At batch #4100, batch cost: 0.647908\n",
      "At batch #4200, batch cost: 0.657379\n",
      "At batch #4300, batch cost: 0.629820\n",
      "At batch #4400, batch cost: 0.720332\n",
      "After epoch 11: validation error: 23.150000%\n",
      "Currently going to do 17 epochs\n",
      "At batch #4500, batch cost: 0.622951\n",
      "At batch #4600, batch cost: 0.601415\n",
      "At batch #4700, batch cost: 0.556756\n",
      "At batch #4800, batch cost: 0.626640\n",
      "After epoch 12: validation error: 23.040000%\n",
      "Currently going to do 19 epochs\n",
      "At batch #4900, batch cost: 0.573263\n",
      "At batch #5000, batch cost: 0.547965\n",
      "At batch #5100, batch cost: 0.532860\n",
      "At batch #5200, batch cost: 0.551553\n",
      "After epoch 13: validation error: 22.950000%\n",
      "Currently going to do 20 epochs\n",
      "At batch #5300, batch cost: 0.516225\n",
      "At batch #5400, batch cost: 0.520720\n",
      "At batch #5500, batch cost: 0.514857\n",
      "At batch #5600, batch cost: 0.526263\n",
      "After epoch 14: validation error: 22.900000%\n",
      "Currently going to do 22 epochs\n",
      "At batch #5700, batch cost: 0.483587\n",
      "At batch #5800, batch cost: 0.484653\n",
      "At batch #5900, batch cost: 0.473179\n",
      "At batch #6000, batch cost: 0.490296\n",
      "After epoch 15: validation error: 23.050000%\n",
      "Currently going to do 22 epochs\n",
      "At batch #6100, batch cost: 0.462537\n",
      "At batch #6200, batch cost: 0.471891\n",
      "At batch #6300, batch cost: 0.470877\n",
      "At batch #6400, batch cost: 0.468979\n",
      "After epoch 16: validation error: 23.140000%\n",
      "Currently going to do 22 epochs\n",
      "At batch #6500, batch cost: 0.445073\n",
      "At batch #6600, batch cost: 0.437016\n",
      "At batch #6700, batch cost: 0.440539\n",
      "At batch #6800, batch cost: 0.435184\n",
      "After epoch 17: validation error: 22.740000%\n",
      "Currently going to do 26 epochs\n",
      "At batch #6900, batch cost: 0.423234\n",
      "At batch #7000, batch cost: 0.416335\n",
      "At batch #7100, batch cost: 0.427874\n",
      "At batch #7200, batch cost: 0.418136\n",
      "After epoch 18: validation error: 22.710000%\n",
      "Currently going to do 28 epochs\n",
      "At batch #7300, batch cost: 0.410454\n",
      "At batch #7400, batch cost: 0.421944\n",
      "At batch #7500, batch cost: 0.400929\n",
      "At batch #7600, batch cost: 0.427159\n",
      "After epoch 19: validation error: 23.240000%\n",
      "Currently going to do 28 epochs\n",
      "At batch #7700, batch cost: 0.399493\n",
      "At batch #7800, batch cost: 0.400378\n",
      "At batch #7900, batch cost: 0.401043\n",
      "At batch #8000, batch cost: 0.399738\n",
      "After epoch 20: validation error: 23.060000%\n",
      "Currently going to do 28 epochs\n",
      "At batch #8100, batch cost: 0.381440\n",
      "At batch #8200, batch cost: 0.394413\n",
      "At batch #8300, batch cost: 0.385057\n",
      "At batch #8400, batch cost: 0.389370\n",
      "After epoch 21: validation error: 23.030000%\n",
      "Currently going to do 28 epochs\n",
      "At batch #8500, batch cost: 0.377025\n",
      "At batch #8600, batch cost: 0.374514\n",
      "At batch #8700, batch cost: 0.390476\n",
      "At batch #8800, batch cost: 0.385678\n",
      "After epoch 22: validation error: 22.880000%\n",
      "Currently going to do 28 epochs\n",
      "At batch #8900, batch cost: 0.367839\n",
      "At batch #9000, batch cost: 0.373849\n",
      "At batch #9100, batch cost: 0.366719\n",
      "At batch #9200, batch cost: 0.363120\n",
      "After epoch 23: validation error: 22.780000%\n",
      "Currently going to do 28 epochs\n",
      "At batch #9300, batch cost: 0.359036\n",
      "At batch #9400, batch cost: 0.354913\n",
      "At batch #9500, batch cost: 0.370525\n",
      "At batch #9600, batch cost: 0.358008\n",
      "After epoch 24: validation error: 23.060000%\n",
      "Currently going to do 28 epochs\n",
      "At batch #9700, batch cost: 0.349176\n",
      "At batch #9800, batch cost: 0.351263\n",
      "At batch #9900, batch cost: 0.355226\n",
      "At batch #10000, batch cost: 0.349815\n",
      "After epoch 25: validation error: 23.030000%\n",
      "Currently going to do 28 epochs\n",
      "At batch #10100, batch cost: 0.344953\n",
      "At batch #10200, batch cost: 0.350212\n",
      "At batch #10300, batch cost: 0.343182\n",
      "At batch #10400, batch cost: 0.342448\n",
      "After epoch 26: validation error: 23.050000%\n",
      "Currently going to do 28 epochs\n",
      "At batch #10500, batch cost: 0.336237\n",
      "At batch #10600, batch cost: 0.339323\n",
      "At batch #10700, batch cost: 0.340118\n",
      "At batch #10800, batch cost: 0.344483\n",
      "After epoch 27: validation error: 23.110000%\n",
      "Currently going to do 28 epochs\n",
      "Setting the best obtained parameters...\n"
     ]
    }
   ],
   "source": [
    "ReLU = lambda x: T.maximum(0.0, x)\n",
    "\n",
    "net = Network([ConvolutionalPoolLayer(image_shape=(3,32,32), filter_shape=(32,3,5,5), pool_shape=(2,2), conv_mode='same'),\n",
    "               ConvolutionalPoolLayer(image_shape=(32,16,16), filter_shape=(64,32,5,5), pool_shape=(2,2), conv_mode='same'),\n",
    "               ConvolutionalPoolLayer(image_shape=(64,8,8), filter_shape=(128,64,5,5), pool_shape=(2,2), conv_mode='same'),\n",
    "               AffineLayer(128*4*4, 512, activation=ReLU),\n",
    "               SoftMaxLayer(512, 10, weights_initializer=Normal(std=0.08)) ])\n",
    "\n",
    "train_cost, valid_errors, train_errors = net.train(cifar_train_stream, cifar_validation_stream, 8e-3, 0.95, 1e-3)"
   ]
  },
  {
   "cell_type": "code",
   "execution_count": 6,
   "metadata": {
    "collapsed": false
   },
   "outputs": [
    {
     "data": {
      "text/plain": [
       "<matplotlib.legend.Legend at 0x7feb54a005d0>"
      ]
     },
     "execution_count": 6,
     "metadata": {},
     "output_type": "execute_result"
    },
    {
     "data": {
      "image/png": "[encoded data removed]",
      "text/plain": [
       "<matplotlib.figure.Figure at 0x7feb549548d0>"
      ]
     },
     "metadata": {},
     "output_type": "display_data"
    }
   ],
   "source": [
    "subplot(2,1,1)\n",
    "semilogy(train_cost[:,0], train_cost[:,1], label='batch train cost')\n",
    "legend()\n",
    "\n",
    "subplot(2,1,2)\n",
    "plot(train_errors[:,0], train_errors[:,1], label='batch train error rate')\n",
    "plot(valid_errors[:,0], valid_errors[:,1], label='validation error rate', color='r')\n",
    "legend()"
   ]
  },
  {
   "cell_type": "code",
   "execution_count": 7,
   "metadata": {
    "collapsed": false
   },
   "outputs": [
    {
     "data": {
      "text/plain": [
       "0.2395"
      ]
     },
     "execution_count": 7,
     "metadata": {},
     "output_type": "execute_result"
    }
   ],
   "source": [
    "net.compute_error_rate(cifar_test_stream, save=True)"
   ]
  }
 ],
 "metadata": {
  "kernelspec": {
   "display_name": "Python 2",
   "language": "python",
   "name": "python2"
  },
  "language_info": {
   "codemirror_mode": {
    "name": "ipython",
    "version": 2
   },
   "file_extension": ".py",
   "mimetype": "text/x-python",
   "name": "python",
   "nbconvert_exporter": "python",
   "pygments_lexer": "ipython2",
   "version": "2.7.10"
  }
 },
 "nbformat": 4,
 "nbformat_minor": 0
}
