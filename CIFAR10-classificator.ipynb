{
 "cells": [
  {
   "cell_type": "code",
   "execution_count": 1,
   "metadata": {
    "collapsed": false
   },
   "outputs": [
    {
     "name": "stdout",
     "output_type": "stream",
     "text": [
      "Populating the interactive namespace from numpy and matplotlib\n"
     ]
    }
   ],
   "source": [
    "%pylab inline"
   ]
  },
  {
   "cell_type": "code",
   "execution_count": 2,
   "metadata": {
    "collapsed": true
   },
   "outputs": [],
   "source": [
    "import theano.tensor as T"
   ]
  },
  {
   "cell_type": "code",
   "execution_count": 3,
   "metadata": {
    "collapsed": true
   },
   "outputs": [],
   "source": [
    "from fuel.datasets.cifar10 import CIFAR10\n",
    "from fuel.transformers import ScaleAndShift, Cast, Flatten\n",
    "from fuel.streams import DataStream\n",
    "from fuel.schemes import SequentialScheme, ShuffledScheme\n",
    "\n",
    "CIFAR10.default_transformers = (\n",
    "    (ScaleAndShift, [2.0 / 255.0, -1], {'which_sources': 'features'}),\n",
    "    (Cast, [np.float32], {'which_sources': 'features'}) ,\n",
    "    (Flatten, [], {'which_sources': 'features'}) )\n",
    "\n",
    "cifar_train = CIFAR10((\"train\",), subset=slice(None,40000))\n",
    "cifar_train_stream = DataStream.default_stream(\n",
    "    cifar_train, iteration_scheme=ShuffledScheme(cifar_train.num_examples, 100))\n",
    "                                               \n",
    "cifar_validation = CIFAR10((\"train\",), subset=slice(40000, None))\n",
    "cifar_validation_stream = DataStream.default_stream(\n",
    "    cifar_validation, iteration_scheme=SequentialScheme(cifar_validation.num_examples, 250))\n",
    "\n",
    "cifar_test = CIFAR10((\"test\",))\n",
    "cifar_test_stream = DataStream.default_stream(\n",
    "    cifar_test, iteration_scheme=SequentialScheme(cifar_test.num_examples, 250))"
   ]
  },
  {
   "cell_type": "code",
   "execution_count": 4,
   "metadata": {
    "collapsed": false
   },
   "outputs": [],
   "source": [
    "from modules.Network import Network\n",
    "from modules.layers.SoftMaxLayer import SoftMaxLayer\n",
    "from modules.layers.AffineLayer import AffineLayer\n",
    "from modules.layers.ConvolutionalPoolLayer import ConvolutionalPoolLayer\n",
    "from modules.initializers.Normal import Normal"
   ]
  },
  {
   "cell_type": "code",
   "execution_count": 5,
   "metadata": {
    "collapsed": false
   },
   "outputs": [
    {
     "name": "stdout",
     "output_type": "stream",
     "text": [
      "At batch #100, batch cost: 2.554179\n",
      "At batch #200, batch cost: 2.313009\n",
      "At batch #300, batch cost: 2.274417\n",
      "At batch #400, batch cost: 1.933619\n",
      "After epoch 1: validation error: 52.630000%\n",
      "Currently going to do 3 epochs\n",
      "At batch #500, batch cost: 1.914269\n",
      "At batch #600, batch cost: 1.938113\n",
      "At batch #700, batch cost: 1.809996\n",
      "At batch #800, batch cost: 1.871158\n",
      "After epoch 2: validation error: 44.750000%\n",
      "Currently going to do 4 epochs\n",
      "Setting the best obtained parameters...\n"
     ]
    }
   ],
   "source": [
    "ReLU = lambda x: T.maximum(0.0, x)\n",
    "\n",
    "net = Network([ConvolutionalPoolLayer(image_shape=(3,32,32), filter_shape=(16,3,5,5), pool_shape=(4,4)),\n",
    "               AffineLayer(16*7*7, 64, activation=ReLU),\n",
    "               SoftMaxLayer(64, 10, weights_initializer=Normal(std=0.08)) ])\n",
    "\n",
    "train_cost, valid_errors, train_errors = net.train(cifar_train_stream, cifar_validation_stream, 8e-3, 0.95, 1e-3)"
   ]
  },
  {
   "cell_type": "code",
   "execution_count": 6,
   "metadata": {
    "collapsed": false
   },
   "outputs": [
    {
     "data": {
      "text/plain": [
       "<matplotlib.legend.Legend at 0x998165ec>"
      ]
     },
     "execution_count": 6,
     "metadata": {},
     "output_type": "execute_result"
    },
    {
     "data": {
      "image/png": "[encoded data removed]",
      "text/plain": [
       "<matplotlib.figure.Figure at 0xa8aa92ac>"
      ]
     },
     "metadata": {},
     "output_type": "display_data"
    }
   ],
   "source": [
    "subplot(2,1,1)\n",
    "semilogy(train_cost[:,0], train_cost[:,1], label='batch train cost')\n",
    "legend()\n",
    "\n",
    "subplot(2,1,2)\n",
    "plot(train_errors[:,0], train_errors[:,1], label='batch train error rate')\n",
    "plot(valid_errors[:,0], valid_errors[:,1], label='validation error rate', color='r')\n",
    "legend()"
   ]
  },
  {
   "cell_type": "code",
   "execution_count": 7,
   "metadata": {
    "collapsed": false
   },
   "outputs": [
    {
     "data": {
      "text/plain": [
       "0.4437"
      ]
     },
     "execution_count": 7,
     "metadata": {},
     "output_type": "execute_result"
    }
   ],
   "source": [
    "net.compute_error_rate(cifar_test_stream)"
   ]
  }
 ],
 "metadata": {
  "kernelspec": {
   "display_name": "Python 2",
   "language": "python",
   "name": "python2"
  },
  "language_info": {
   "codemirror_mode": {
    "name": "ipython",
    "version": 2
   },
   "file_extension": ".py",
   "mimetype": "text/x-python",
   "name": "python",
   "nbconvert_exporter": "python",
   "pygments_lexer": "ipython2",
   "version": "2.7.11"
  }
 },
 "nbformat": 4,
 "nbformat_minor": 0
}
