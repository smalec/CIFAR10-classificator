{
 "cells": [
  {
   "cell_type": "code",
   "execution_count": 1,
   "metadata": {
    "collapsed": false
   },
   "outputs": [
    {
     "name": "stdout",
     "output_type": "stream",
     "text": [
      "Populating the interactive namespace from numpy and matplotlib\n"
     ]
    }
   ],
   "source": [
    "%pylab inline"
   ]
  },
  {
   "cell_type": "code",
   "execution_count": 2,
   "metadata": {
    "collapsed": false
   },
   "outputs": [],
   "source": [
    "import theano.tensor as T"
   ]
  },
  {
   "cell_type": "code",
   "execution_count": 3,
   "metadata": {
    "collapsed": false
   },
   "outputs": [],
   "source": [
    "from fuel.datasets.cifar10 import CIFAR10\n",
    "from fuel.transformers import ScaleAndShift, Cast, Flatten\n",
    "from fuel.streams import DataStream\n",
    "from fuel.schemes import SequentialScheme, ShuffledScheme\n",
    "\n",
    "CIFAR10.default_transformers = (\n",
    "    (ScaleAndShift, [2.0 / 255.0, -1], {'which_sources': 'features'}),\n",
    "    (Cast, [np.float32], {'which_sources': 'features'}) ,\n",
    "    (Flatten, [], {'which_sources': 'features'}) )\n",
    "\n",
    "cifar_train = CIFAR10((\"train\",), subset=slice(None,40000))\n",
    "cifar_train_stream = DataStream.default_stream(\n",
    "    cifar_train, iteration_scheme=ShuffledScheme(cifar_train.num_examples, 50))\n",
    "                                               \n",
    "cifar_validation = CIFAR10((\"train\",), subset=slice(40000, None))\n",
    "cifar_validation_stream = DataStream.default_stream(\n",
    "    cifar_validation, iteration_scheme=SequentialScheme(cifar_validation.num_examples, 100))\n",
    "\n",
    "cifar_test = CIFAR10((\"test\",))\n",
    "cifar_test_stream = DataStream.default_stream(\n",
    "    cifar_test, iteration_scheme=SequentialScheme(cifar_test.num_examples, 250))"
   ]
  },
  {
   "cell_type": "code",
   "execution_count": 4,
   "metadata": {
    "collapsed": true
   },
   "outputs": [],
   "source": [
    "from modules.Network import Network\n",
    "from modules.layers.SoftMaxLayer import SoftMaxLayer\n",
    "from modules.layers.AffineLayer import AffineLayer\n",
    "from modules.layers.ConvolutionalPoolLayer import ConvolutionalPoolLayer"
   ]
  },
  {
   "cell_type": "code",
   "execution_count": 5,
   "metadata": {
    "collapsed": false
   },
   "outputs": [
    {
     "name": "stdout",
     "output_type": "stream",
     "text": [
      "At batch #100, batch cost: 2.218246\n",
      "At batch #200, batch cost: 2.008744\n",
      "At batch #300, batch cost: 1.890899\n",
      "At batch #400, batch cost: 1.721766\n",
      "At batch #500, batch cost: 1.670758\n",
      "At batch #600, batch cost: 1.747774\n",
      "At batch #700, batch cost: 1.606788\n",
      "At batch #800, batch cost: 1.465501\n",
      "After epoch 1: validation error: 55.230000%\n",
      "At batch #900, batch cost: 1.432447\n",
      "At batch #1000, batch cost: 1.260487\n",
      "At batch #1100, batch cost: 1.383768\n",
      "At batch #1200, batch cost: 1.562953\n",
      "At batch #1300, batch cost: 1.385300\n",
      "At batch #1400, batch cost: 1.210097\n",
      "At batch #1500, batch cost: 1.578728\n",
      "At batch #1600, batch cost: 1.257366\n",
      "After epoch 2: validation error: 49.150000%\n"
     ]
    }
   ],
   "source": [
    "ReLU = lambda x: T.maximum(0.0, x)\n",
    "\n",
    "net = Network([ConvolutionalPoolLayer(image_shape=(3,32,32), filter_shape=(20,3,5,5), pool_shape=(2,2)),\n",
    "               ConvolutionalPoolLayer(image_shape=(20,14,14), filter_shape=(40,20,5,5), pool_shape=(2,2)),\n",
    "               AffineLayer(40*5*5, 500, activation=ReLU),\n",
    "               SoftMaxLayer(500, 10)])\n",
    "net.train(cifar_train_stream, cifar_validation_stream, 2, 4e-3, 0.9, 1e-3)"
   ]
  },
  {
   "cell_type": "code",
   "execution_count": 7,
   "metadata": {
    "collapsed": false
   },
   "outputs": [
    {
     "data": {
      "text/plain": [
       "0.4854"
      ]
     },
     "execution_count": 7,
     "metadata": {},
     "output_type": "execute_result"
    }
   ],
   "source": [
    "net.compute_error_rate(cifar_test_stream)"
   ]
  }
 ],
 "metadata": {
  "kernelspec": {
   "display_name": "Python 2",
   "language": "python",
   "name": "python2"
  },
  "language_info": {
   "codemirror_mode": {
    "name": "ipython",
    "version": 2
   },
   "file_extension": ".py",
   "mimetype": "text/x-python",
   "name": "python",
   "nbconvert_exporter": "python",
   "pygments_lexer": "ipython2",
   "version": "2.7.11"
  }
 },
 "nbformat": 4,
 "nbformat_minor": 0
}
