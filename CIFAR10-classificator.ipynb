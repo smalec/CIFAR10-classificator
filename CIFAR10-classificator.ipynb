{
 "cells": [
  {
   "cell_type": "code",
   "execution_count": 1,
   "metadata": {
    "collapsed": false
   },
   "outputs": [
    {
     "name": "stdout",
     "output_type": "stream",
     "text": [
      "Populating the interactive namespace from numpy and matplotlib\n"
     ]
    }
   ],
   "source": [
    "%pylab inline"
   ]
  },
  {
   "cell_type": "code",
   "execution_count": 2,
   "metadata": {
    "collapsed": true
   },
   "outputs": [],
   "source": [
    "import numpy as np"
   ]
  },
  {
   "cell_type": "code",
   "execution_count": 3,
   "metadata": {
    "collapsed": false
   },
   "outputs": [],
   "source": [
    "from fuel.datasets.cifar10 import CIFAR10\n",
    "from fuel.transformers import ScaleAndShift, Cast, Flatten\n",
    "from fuel.streams import DataStream\n",
    "from fuel.schemes import SequentialScheme, ShuffledScheme\n",
    "\n",
    "CIFAR10.default_transformers = (\n",
    "    (ScaleAndShift, [2.0 / 255.0, -1], {'which_sources': 'features'}),\n",
    "    (Cast, [np.float32], {'which_sources': 'features'}), \n",
    "    (Flatten, [], {'which_sources': 'features'}) )\n",
    "\n",
    "cifar_train = CIFAR10((\"train\",), subset=slice(None,40000))\n",
    "cifar_train_stream = DataStream.default_stream(\n",
    "    cifar_train, iteration_scheme=ShuffledScheme(cifar_train.num_examples, 100))\n",
    "                                               \n",
    "cifar_validation = CIFAR10((\"train\",), subset=slice(40000, None))\n",
    "cifar_validation_stream = DataStream.default_stream(\n",
    "    cifar_validation, iteration_scheme=SequentialScheme(cifar_validation.num_examples, 250))\n",
    "\n",
    "cifar_test = CIFAR10((\"test\",))\n",
    "cifar_test_stream = DataStream.default_stream(\n",
    "    cifar_test, iteration_scheme=SequentialScheme(cifar_test.num_examples, 250))"
   ]
  },
  {
   "cell_type": "code",
   "execution_count": 4,
   "metadata": {
    "collapsed": true
   },
   "outputs": [],
   "source": [
    "from modules.Network import Network\n",
    "from modules.layers.SoftMaxLayer import SoftMaxLayer"
   ]
  },
  {
   "cell_type": "code",
   "execution_count": 5,
   "metadata": {
    "collapsed": false
   },
   "outputs": [
    {
     "name": "stdout",
     "output_type": "stream",
     "text": [
      "At batch #100, batch cost: 1.887718\n",
      "At batch #200, batch cost: 1.892784\n",
      "At batch #300, batch cost: 1.972720\n",
      "At batch #400, batch cost: 1.742691\n",
      "After epoch 1: validation error: 62.040000%\n",
      "At batch #100, batch cost: 1.703601\n",
      "At batch #200, batch cost: 1.708422\n",
      "At batch #300, batch cost: 1.775360\n",
      "At batch #400, batch cost: 1.756480\n",
      "After epoch 2: validation error: 60.850000%\n",
      "At batch #100, batch cost: 1.879518\n",
      "At batch #200, batch cost: 1.751814\n",
      "At batch #300, batch cost: 1.714449\n",
      "At batch #400, batch cost: 1.693013\n",
      "After epoch 3: validation error: 60.620000%\n",
      "At batch #100, batch cost: 1.710607\n",
      "At batch #200, batch cost: 1.699525\n",
      "At batch #300, batch cost: 1.701158\n",
      "At batch #400, batch cost: 1.641430\n",
      "After epoch 4: validation error: 59.990000%\n",
      "At batch #100, batch cost: 1.788204\n",
      "At batch #200, batch cost: 1.726227\n",
      "At batch #300, batch cost: 1.695957\n",
      "At batch #400, batch cost: 1.932550\n",
      "After epoch 5: validation error: 60.100000%\n",
      "At batch #100, batch cost: 1.688852\n",
      "At batch #200, batch cost: 1.739656\n",
      "At batch #300, batch cost: 1.578511\n",
      "At batch #400, batch cost: 1.754568\n",
      "After epoch 6: validation error: 59.640000%\n",
      "At batch #100, batch cost: 1.770990\n",
      "At batch #200, batch cost: 1.750844\n",
      "At batch #300, batch cost: 1.752650\n",
      "At batch #400, batch cost: 1.805280\n",
      "After epoch 7: validation error: 60.300000%\n",
      "At batch #100, batch cost: 1.646041\n",
      "At batch #200, batch cost: 1.635902\n",
      "At batch #300, batch cost: 1.699749\n",
      "At batch #400, batch cost: 1.670756\n",
      "After epoch 8: validation error: 59.460000%\n",
      "At batch #100, batch cost: 1.803741\n",
      "At batch #200, batch cost: 1.614719\n",
      "At batch #300, batch cost: 1.685178\n",
      "At batch #400, batch cost: 1.586073\n",
      "After epoch 9: validation error: 60.450000%\n",
      "At batch #100, batch cost: 1.827750\n",
      "At batch #200, batch cost: 1.695125\n",
      "At batch #300, batch cost: 1.637718\n",
      "At batch #400, batch cost: 1.826894\n",
      "After epoch 10: validation error: 60.050000%\n"
     ]
    }
   ],
   "source": [
    "net = Network([SoftMaxLayer(3072, 10)])\n",
    "net.train(cifar_train_stream, cifar_validation_stream, 10, 1e-2)"
   ]
  }
 ],
 "metadata": {
  "kernelspec": {
   "display_name": "Python 2",
   "language": "python",
   "name": "python2"
  },
  "language_info": {
   "codemirror_mode": {
    "name": "ipython",
    "version": 2
   },
   "file_extension": ".py",
   "mimetype": "text/x-python",
   "name": "python",
   "nbconvert_exporter": "python",
   "pygments_lexer": "ipython2",
   "version": "2.7.11"
  }
 },
 "nbformat": 4,
 "nbformat_minor": 0
}
