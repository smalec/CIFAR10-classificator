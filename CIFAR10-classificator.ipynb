{
 "cells": [
  {
   "cell_type": "code",
   "execution_count": 1,
   "metadata": {},
   "outputs": [
    {
     "name": "stdout",
     "output_type": "stream",
     "text": [
      "Populating the interactive namespace from numpy and matplotlib\n"
     ]
    },
    {
     "name": "stderr",
     "output_type": "stream",
     "text": [
      "Vendor:  Continuum Analytics, Inc.\n",
      "Package: mkl\n",
      "Message: trial mode expires in 20 days\n",
      "Vendor:  Continuum Analytics, Inc.\n",
      "Package: mkl\n",
      "Message: trial mode expires in 20 days\n"
     ]
    }
   ],
   "source": [
    "%pylab inline"
   ]
  },
  {
   "cell_type": "code",
   "execution_count": 2,
   "metadata": {},
   "outputs": [
    {
     "name": "stderr",
     "output_type": "stream",
     "text": [
      "Using gpu device 0: GeForce GTX 780 (CNMeM is disabled)\n"
     ]
    }
   ],
   "source": [
    "import theano.tensor as T"
   ]
  },
  {
   "cell_type": "code",
   "execution_count": 3,
   "metadata": {},
   "outputs": [],
   "source": [
    "from fuel.datasets.cifar10 import CIFAR10\n",
    "from fuel.transformers import ScaleAndShift, Cast, Flatten\n",
    "from fuel.streams import DataStream\n",
    "from fuel.schemes import SequentialScheme, ShuffledScheme\n",
    "\n",
    "CIFAR10.default_transformers = (\n",
    "    (ScaleAndShift, [2.0 / 255.0, -1], {'which_sources': 'features'}),\n",
    "    (Cast, [np.float32], {'which_sources': 'features'}) ,\n",
    "    (Flatten, [], {'which_sources': 'features'}) )\n",
    "\n",
    "cifar_train = CIFAR10((\"train\",), subset=slice(None,40000))\n",
    "cifar_train_stream = DataStream.default_stream(\n",
    "    cifar_train, iteration_scheme=ShuffledScheme(cifar_train.num_examples, 100))\n",
    "                                               \n",
    "cifar_validation = CIFAR10((\"train\",), subset=slice(40000, None))\n",
    "cifar_validation_stream = DataStream.default_stream(\n",
    "    cifar_validation, iteration_scheme=SequentialScheme(cifar_validation.num_examples, 250))\n",
    "\n",
    "cifar_test = CIFAR10((\"test\",))\n",
    "cifar_test_stream = DataStream.default_stream(\n",
    "    cifar_test, iteration_scheme=SequentialScheme(cifar_test.num_examples, 250))"
   ]
  },
  {
   "cell_type": "code",
   "execution_count": 4,
   "metadata": {},
   "outputs": [
    {
     "name": "stderr",
     "output_type": "stream",
     "text": [
      "/home/i258361/Dokumenty/nn_project/CIFAR10-classificator/libs/Theano/theano/tensor/signal/downsample.py:5: UserWarning: downsample module has been moved to the pool module.\n",
      "  warnings.warn(\"downsample module has been moved to the pool module.\")\n"
     ]
    }
   ],
   "source": [
    "from modules.Network import Network\n",
    "from modules.layers.SoftMaxLayer import SoftMaxLayer\n",
    "from modules.layers.AffineLayer import AffineLayer\n",
    "from modules.layers.ConvolutionalPoolLayer import ConvolutionalPoolLayer\n",
    "from modules.initializers.Normal import Normal"
   ]
  },
  {
   "cell_type": "code",
   "execution_count": 5,
   "metadata": {},
   "outputs": [
    {
     "name": "stdout",
     "output_type": "stream",
     "text": [
      "At batch #100, batch cost: 3.815082\n",
      "At batch #200, batch cost: 3.703089\n",
      "At batch #300, batch cost: 3.261386\n",
      "At batch #400, batch cost: 2.892411\n",
      "After epoch 1: validation error: 42.930000%\n",
      "Currently going to do 3 epochs\n",
      "At batch #500, batch cost: 2.702544\n",
      "At batch #600, batch cost: 2.722987\n",
      "At batch #700, batch cost: 2.433693\n",
      "At batch #800, batch cost: 2.346661\n",
      "After epoch 2: validation error: 34.980000%\n",
      "Currently going to do 4 epochs\n",
      "At batch #900, batch cost: 2.362528\n",
      "At batch #1000, batch cost: 2.188495\n",
      "At batch #1100, batch cost: 2.114312\n",
      "At batch #1200, batch cost: 1.893527\n",
      "After epoch 3: validation error: 31.110000%\n",
      "Currently going to do 5 epochs\n",
      "At batch #1300, batch cost: 1.740172\n",
      "At batch #1400, batch cost: 1.545588\n",
      "At batch #1500, batch cost: 1.721695\n",
      "At batch #1600, batch cost: 1.648335\n",
      "After epoch 4: validation error: 27.930000%\n",
      "Currently going to do 7 epochs\n",
      "At batch #1700, batch cost: 1.641278\n",
      "At batch #1800, batch cost: 1.458044\n",
      "At batch #1900, batch cost: 1.357670\n",
      "At batch #2000, batch cost: 1.662063\n",
      "After epoch 5: validation error: 25.480000%\n",
      "Currently going to do 8 epochs\n",
      "At batch #2100, batch cost: 1.443045\n",
      "At batch #2200, batch cost: 1.340161\n",
      "At batch #2300, batch cost: 1.217153\n",
      "At batch #2400, batch cost: 1.426648\n",
      "After epoch 6: validation error: 26.450000%\n",
      "Currently going to do 8 epochs\n",
      "At batch #2500, batch cost: 1.077242\n",
      "At batch #2600, batch cost: 1.053918\n",
      "At batch #2700, batch cost: 1.020988\n",
      "At batch #2800, batch cost: 1.122405\n",
      "After epoch 7: validation error: 24.440000%\n",
      "Currently going to do 11 epochs\n",
      "At batch #2900, batch cost: 0.859281\n",
      "At batch #3000, batch cost: 0.931580\n",
      "At batch #3100, batch cost: 0.837956\n",
      "At batch #3200, batch cost: 0.933474\n",
      "After epoch 8: validation error: 25.300000%\n",
      "Currently going to do 11 epochs\n",
      "At batch #3300, batch cost: 0.825015\n",
      "At batch #3400, batch cost: 0.821668\n",
      "At batch #3500, batch cost: 0.802381\n",
      "At batch #3600, batch cost: 0.876605\n",
      "After epoch 9: validation error: 23.450000%\n",
      "Currently going to do 14 epochs\n",
      "At batch #3700, batch cost: 0.705616\n",
      "At batch #3800, batch cost: 0.738116\n",
      "At batch #3900, batch cost: 0.746688\n",
      "At batch #4000, batch cost: 0.865861\n",
      "After epoch 10: validation error: 23.230000%\n",
      "Currently going to do 16 epochs\n",
      "At batch #4100, batch cost: 0.643603\n",
      "At batch #4200, batch cost: 0.656252\n",
      "At batch #4300, batch cost: 0.606974\n",
      "At batch #4400, batch cost: 0.734420\n",
      "After epoch 11: validation error: 23.830000%\n",
      "Currently going to do 16 epochs\n",
      "At batch #4500, batch cost: 0.587348\n",
      "At batch #4600, batch cost: 0.587794\n",
      "At batch #4700, batch cost: 0.563825\n",
      "At batch #4800, batch cost: 0.651323\n",
      "After epoch 12: validation error: 23.360000%\n",
      "Currently going to do 16 epochs\n",
      "At batch #4900, batch cost: 0.555865\n",
      "At batch #5000, batch cost: 0.560031\n",
      "At batch #5100, batch cost: 0.540911\n",
      "At batch #5200, batch cost: 0.540003\n",
      "After epoch 13: validation error: 23.130000%\n",
      "Currently going to do 20 epochs\n",
      "At batch #5300, batch cost: 0.514683\n",
      "At batch #5400, batch cost: 0.514699\n",
      "At batch #5500, batch cost: 0.494180\n",
      "At batch #5600, batch cost: 0.508881\n",
      "After epoch 14: validation error: 22.930000%\n",
      "Currently going to do 22 epochs\n",
      "At batch #5700, batch cost: 0.496527\n",
      "At batch #5800, batch cost: 0.480940\n",
      "At batch #5900, batch cost: 0.474081\n",
      "At batch #6000, batch cost: 0.475225\n",
      "After epoch 15: validation error: 22.460000%\n",
      "Currently going to do 23 epochs\n",
      "At batch #6100, batch cost: 0.458861\n",
      "At batch #6200, batch cost: 0.474582\n",
      "At batch #6300, batch cost: 0.469120\n",
      "At batch #6400, batch cost: 0.469193\n",
      "After epoch 16: validation error: 22.860000%\n",
      "Currently going to do 23 epochs\n",
      "At batch #6500, batch cost: 0.444391\n",
      "At batch #6600, batch cost: 0.433623\n",
      "At batch #6700, batch cost: 0.442460\n",
      "At batch #6800, batch cost: 0.428770\n",
      "After epoch 17: validation error: 22.890000%\n",
      "Currently going to do 23 epochs\n",
      "At batch #6900, batch cost: 0.430096\n",
      "At batch #7000, batch cost: 0.415663\n",
      "At batch #7100, batch cost: 0.421050\n",
      "At batch #7200, batch cost: 0.420497\n",
      "After epoch 18: validation error: 23.020000%\n",
      "Currently going to do 23 epochs\n",
      "At batch #7300, batch cost: 0.412093\n",
      "At batch #7400, batch cost: 0.416081\n",
      "At batch #7500, batch cost: 0.406922\n",
      "At batch #7600, batch cost: 0.416921\n",
      "After epoch 19: validation error: 22.930000%\n",
      "Currently going to do 23 epochs\n",
      "At batch #7700, batch cost: 0.394438\n",
      "At batch #7800, batch cost: 0.391958\n",
      "At batch #7900, batch cost: 0.399007\n",
      "At batch #8000, batch cost: 0.395156\n",
      "After epoch 20: validation error: 22.820000%\n",
      "Currently going to do 23 epochs\n",
      "At batch #8100, batch cost: 0.386559\n",
      "At batch #8200, batch cost: 0.395763\n",
      "At batch #8300, batch cost: 0.384838\n",
      "At batch #8400, batch cost: 0.386363\n",
      "After epoch 21: validation error: 22.710000%\n",
      "Currently going to do 23 epochs\n",
      "At batch #8500, batch cost: 0.381975\n",
      "At batch #8600, batch cost: 0.376812\n",
      "At batch #8700, batch cost: 0.377601\n",
      "At batch #8800, batch cost: 0.371873\n",
      "After epoch 22: validation error: 22.900000%\n",
      "Currently going to do 23 epochs\n",
      "At batch #8900, batch cost: 0.361901\n",
      "At batch #9000, batch cost: 0.371790\n",
      "At batch #9100, batch cost: 0.373450\n",
      "At batch #9200, batch cost: 0.368902\n",
      "After epoch 23: validation error: 23.010000%\n",
      "Currently going to do 23 epochs\n",
      "Setting the best obtained parameters...\n"
     ]
    }
   ],
   "source": [
    "ReLU = lambda x: T.maximum(0.0, x)\n",
    "\n",
    "net = Network([ConvolutionalPoolLayer(image_shape=(3,32,32), filter_shape=(32,3,5,5), pool_shape=(2,2), conv_mode='same'),\n",
    "               ConvolutionalPoolLayer(image_shape=(32,16,16), filter_shape=(64,32,5,5), pool_shape=(2,2), conv_mode='same'),\n",
    "               ConvolutionalPoolLayer(image_shape=(64,8,8), filter_shape=(128,64,5,5), pool_shape=(2,2), conv_mode='same'),\n",
    "               AffineLayer(128*4*4, 512, activation=ReLU),\n",
    "               SoftMaxLayer(512, 10, weights_initializer=Normal(std=0.08)) ])\n",
    "\n",
    "train_cost, valid_errors, train_errors = net.train(cifar_train_stream, cifar_validation_stream, 8e-3, 0.95, 1e-3)"
   ]
  },
  {
   "cell_type": "code",
   "execution_count": 6,
   "metadata": {},
   "outputs": [
    {
     "data": {
      "text/plain": [
       "<matplotlib.legend.Legend at 0x7f442d3d5190>"
      ]
     },
     "execution_count": 6,
     "output_type": "execute_result",
     "metadata": {}
    },
    {
     "data": {
      "image/png": "[encoded data removed]"
     },
     "output_type": "display_data",
     "metadata": {}
    }
   ],
   "source": [
    "subplot(2,1,1)\n",
    "semilogy(train_cost[:,0], train_cost[:,1], label='batch train cost')\n",
    "legend()\n",
    "\n",
    "subplot(2,1,2)\n",
    "plot(train_errors[:,0], train_errors[:,1], label='batch train error rate')\n",
    "plot(valid_errors[:,0], valid_errors[:,1], label='validation error rate', color='r')\n",
    "legend()"
   ]
  },
  {
   "cell_type": "code",
   "execution_count": 7,
   "metadata": {},
   "outputs": [
    {
     "data": {
      "text/plain": [
       "0.2351"
      ]
     },
     "execution_count": 7,
     "output_type": "execute_result",
     "metadata": {}
    }
   ],
   "source": [
    "net.compute_error_rate(cifar_test_stream)"
   ]
  }
 ],
 "metadata": {
  "kernelspec": {
   "display_name": "Python 2",
   "language": "python",
   "name": "python2"
  },
  "language_info": {
   "codemirror_mode": {
    "name": "ipython",
    "version": 2.0
   },
   "file_extension": ".py",
   "mimetype": "text/x-python",
   "name": "python",
   "nbconvert_exporter": "python",
   "pygments_lexer": "ipython2",
   "version": "2.7.10"
  }
 },
 "nbformat": 4,
 "nbformat_minor": 0
}